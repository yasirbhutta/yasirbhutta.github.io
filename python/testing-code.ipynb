{
 "cells": [
  {
   "cell_type": "code",
   "execution_count": 10,
   "metadata": {},
   "outputs": [
    {
     "name": "stdout",
     "output_type": "stream",
     "text": [
      "x is less than 3\n",
      "Ahmad\n",
      "15\n"
     ]
    }
   ],
   "source": [
    "x = 6\n",
    "if x > 3:\n",
    "    print(\"x is less than 3\")\n",
    "    print(\"Ahmad\")\n",
    "    a = 5\n",
    "    b = 10\n",
    "    c = a + b\n",
    "    print(c)\n",
    "elif x == 3:\n",
    "    print(\"x is equal to 3\")\n",
    "else:\n",
    "    print(\"x is greater than 3\")\n",
    "\n"
   ]
  }
 ],
 "metadata": {
  "kernelspec": {
   "display_name": "Python 3",
   "language": "python",
   "name": "python3"
  },
  "language_info": {
   "codemirror_mode": {
    "name": "ipython",
    "version": 3
   },
   "file_extension": ".py",
   "mimetype": "text/x-python",
   "name": "python",
   "nbconvert_exporter": "python",
   "pygments_lexer": "ipython3",
   "version": "3.12.1"
  }
 },
 "nbformat": 4,
 "nbformat_minor": 2
}
