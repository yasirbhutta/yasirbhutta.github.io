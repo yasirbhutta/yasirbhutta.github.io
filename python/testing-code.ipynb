{
 "cells": [
  {
   "cell_type": "code",
   "execution_count": 2,
   "metadata": {},
   "outputs": [
    {
     "ename": "ModuleNotFoundError",
     "evalue": "No module named 'pyowm'",
     "output_type": "error",
     "traceback": [
      "\u001b[1;31m---------------------------------------------------------------------------\u001b[0m",
      "\u001b[1;31mModuleNotFoundError\u001b[0m                       Traceback (most recent call last)",
      "Cell \u001b[1;32mIn[2], line 1\u001b[0m\n\u001b[1;32m----> 1\u001b[0m \u001b[38;5;28;01mimport\u001b[39;00m \u001b[38;5;21;01mpyowm\u001b[39;00m\n\u001b[0;32m      2\u001b[0m \u001b[38;5;28;01mfrom\u001b[39;00m \u001b[38;5;21;01mpyowm\u001b[39;00m\u001b[38;5;21;01m.\u001b[39;00m\u001b[38;5;21;01mutils\u001b[39;00m\u001b[38;5;21;01m.\u001b[39;00m\u001b[38;5;21;01mconfig\u001b[39;00m \u001b[38;5;28;01mimport\u001b[39;00m get_default_config\n\u001b[0;32m      4\u001b[0m \u001b[38;5;66;03m# Initialize the OpenWeatherMap API\u001b[39;00m\n",
      "\u001b[1;31mModuleNotFoundError\u001b[0m: No module named 'pyowm'"
     ]
    }
   ],
   "source": [
    "import pyowm\n",
    "\n",
    "from pyowm.utils.config import get_default_config\n",
    "\n",
    "# Initialize the OpenWeatherMap API\n",
    "api_key = \"9dda6e8331ad626463b3c2c9ee9036d0\"\n",
    "owm = pyowm.OWM(api_key)\n",
    "\n",
    "# Set language preference (optional)\n",
    "config_dict = get_default_config()\n",
    "config_dict['language'] = 'en'  # Can be set to other languages like 'es', 'fr', etc.\n",
    "\n",
    "# Get the weather manager\n",
    "mgr = owm.weather_manager()\n",
    "\n",
    "# Specify the location (e.g., London)\n",
    "location = \"London, GB\"\n",
    "\n",
    "# Get current weather at the location\n",
    "observation = mgr.weather_at_place(location)\n",
    "weather = observation.weather\n",
    "\n",
    "# Display current weather information\n",
    "print(f\"Current weather in {location}:\")\n",
    "print(f\"Status: {weather.detailed_status}\")\n",
    "print(f\"Temperature: {weather.temperature('celsius')['temp']}°C\")\n",
    "print(f\"Humidity: {weather.humidity}%\")\n",
    "print(f\"Wind Speed: {weather.wind()['speed']} m/s\")\n",
    "print(\"-\" * 40)\n",
    "\n",
    "# Get a 3-hourly forecast\n",
    "forecast = mgr.forecast_at_place(location, '3h').forecast\n",
    "\n",
    "print(f\"3-hourly forecast for {location}:\")\n",
    "\n",
    "# Loop through the forecast\n",
    "for weather in forecast:\n",
    "    print(f\"Time: {weather.reference_time('iso')}\")\n",
    "    print(f\"Status: {weather.detailed_status}\")\n",
    "    print(f\"Temperature: {weather.temperature('celsius')['temp']}°C\")\n",
    "    print(\"-\" * 40)\n"
   ]
  }
 ],
 "metadata": {
  "kernelspec": {
   "display_name": "Python 3",
   "language": "python",
   "name": "python3"
  },
  "language_info": {
   "codemirror_mode": {
    "name": "ipython",
    "version": 3
   },
   "file_extension": ".py",
   "mimetype": "text/x-python",
   "name": "python",
   "nbconvert_exporter": "python",
   "pygments_lexer": "ipython3",
   "version": "3.12.1"
  }
 },
 "nbformat": 4,
 "nbformat_minor": 2
}
