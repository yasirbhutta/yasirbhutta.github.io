{
 "cells": [
  {
   "cell_type": "code",
   "execution_count": 3,
   "metadata": {},
   "outputs": [
    {
     "name": "stdout",
     "output_type": "stream",
     "text": [
      "Hello Ali\n",
      "Hello Ahmad\n",
      "Hello Nasir\n"
     ]
    }
   ],
   "source": [
    "def greet(name):\n",
    "    print(f\"Hello {name}\")\n",
    "\n",
    "greet(\"Ali\")\n",
    "greet(\"Ahmad\")\n",
    "greet(\"Nasir\")"
   ]
  },
  {
   "cell_type": "code",
   "execution_count": 8,
   "metadata": {},
   "outputs": [
    {
     "name": "stdout",
     "output_type": "stream",
     "text": [
      "14\n",
      "140\n"
     ]
    }
   ],
   "source": [
    "def add(a,b):\n",
    "    sum1 = a + b\n",
    "    return sum1\n",
    "\n",
    "val1 = add(10,4)\n",
    "\n",
    "print(val1)\n",
    "\n",
    "val2 = val1 * 10\n",
    "print(val2)\n",
    "\n",
    "\n"
   ]
  }
 ],
 "metadata": {
  "kernelspec": {
   "display_name": "Python 3",
   "language": "python",
   "name": "python3"
  },
  "language_info": {
   "codemirror_mode": {
    "name": "ipython",
    "version": 3
   },
   "file_extension": ".py",
   "mimetype": "text/x-python",
   "name": "python",
   "nbconvert_exporter": "python",
   "pygments_lexer": "ipython3",
   "version": "3.12.1"
  }
 },
 "nbformat": 4,
 "nbformat_minor": 2
}
