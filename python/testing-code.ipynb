{
 "cells": [
  {
   "cell_type": "code",
   "execution_count": null,
   "metadata": {},
   "outputs": [
    {
     "ename": "TypeError",
     "evalue": "can only concatenate str (not \"int\") to str",
     "output_type": "error",
     "traceback": [
      "\u001b[1;31m---------------------------------------------------------------------------\u001b[0m",
      "\u001b[1;31mTypeError\u001b[0m                                 Traceback (most recent call last)",
      "Cell \u001b[1;32mIn[1], line 3\u001b[0m\n\u001b[0;32m      1\u001b[0m a \u001b[38;5;241m=\u001b[39m \u001b[38;5;124m\"\u001b[39m\u001b[38;5;124mHello\u001b[39m\u001b[38;5;124m\"\u001b[39m\n\u001b[0;32m      2\u001b[0m b \u001b[38;5;241m=\u001b[39m \u001b[38;5;241m5\u001b[39m\n\u001b[1;32m----> 3\u001b[0m \u001b[38;5;28mprint\u001b[39m(\u001b[43ma\u001b[49m\u001b[38;5;241;43m+\u001b[39;49m\u001b[43mb\u001b[49m)\n",
      "\u001b[1;31mTypeError\u001b[0m: can only concatenate str (not \"int\") to str"
     ]
    },
    {
     "ename": "",
     "evalue": "",
     "output_type": "error",
     "traceback": [
      "\u001b[1;31mThe Kernel crashed while executing code in the current cell or a previous cell. \n",
      "\u001b[1;31mPlease review the code in the cell(s) to identify a possible cause of the failure. \n",
      "\u001b[1;31mClick <a href='https://aka.ms/vscodeJupyterKernelCrash'>here</a> for more info. \n",
      "\u001b[1;31mView Jupyter <a href='command:jupyter.viewOutput'>log</a> for further details."
     ]
    }
   ],
   "source": [
    "a = \"Hello\"\n",
    "b = 5\n",
    "print(a+b)"
   ]
  },
  {
   "cell_type": "code",
   "execution_count": 16,
   "metadata": {},
   "outputs": [
    {
     "name": "stdout",
     "output_type": "stream",
     "text": [
      "First Name: john\n",
      "Phone Number: 7061356620\n"
     ]
    }
   ],
   "source": [
    "test_data = {\"Bandy\":\n",
    "  {\"first_name\": \"jim\",\n",
    "   \"phone_number\": \"5031305524\"},\n",
    " \"Wick\":\n",
    "  {\"first_name\": \"john\",\n",
    "   \"phone_number\":\"7061356620\"},\n",
    " \"Perry\":\n",
    "  {\"first_name\": \"bob\",\n",
    "   \"phone_number\":\"5035551212\"}}\n",
    "\n",
    "test_data[\"Bandy\"][\"phone_number\"]\n",
    "\n",
    "search_name = \"Wick\"\n",
    "for last_name in test_data:\n",
    "    if search_name == last_name:\n",
    "        print(f\"First Name: {test_data[last_name][\"first_name\"]}\")\n",
    "        print(f\"Phone Number: {test_data[last_name][\"phone_number\"]}\")\n",
    "        "
   ]
  },
  {
   "cell_type": "code",
   "execution_count": 6,
   "metadata": {},
   "outputs": [
    {
     "name": "stdout",
     "output_type": "stream",
     "text": [
      "{'sum': 15, 'count': 5}\n"
     ]
    }
   ],
   "source": [
    "\n",
    "# Function that processes a list of integers and returns a dictionary\n",
    "def process_data(numbers: list[int]) -> dict[str, int]:\n",
    "    result = {\n",
    "        'sum': sum(numbers),\n",
    "        'count': len(numbers)\n",
    "    }\n",
    "    return result\n",
    "\n",
    "data = [1, 2, 3, 4, 5]\n",
    "processed_data = process_data(data)\n",
    "print(processed_data)  # Output: {'sum': 15, 'count': 5}"
   ]
  },
  {
   "cell_type": "code",
   "execution_count": 2,
   "metadata": {},
   "outputs": [
    {
     "ename": "ModuleNotFoundError",
     "evalue": "No module named 'pyowm'",
     "output_type": "error",
     "traceback": [
      "\u001b[1;31m---------------------------------------------------------------------------\u001b[0m",
      "\u001b[1;31mModuleNotFoundError\u001b[0m                       Traceback (most recent call last)",
      "Cell \u001b[1;32mIn[2], line 1\u001b[0m\n\u001b[1;32m----> 1\u001b[0m \u001b[38;5;28;01mimport\u001b[39;00m \u001b[38;5;21;01mpyowm\u001b[39;00m\n\u001b[0;32m      2\u001b[0m \u001b[38;5;28;01mfrom\u001b[39;00m \u001b[38;5;21;01mpyowm\u001b[39;00m\u001b[38;5;21;01m.\u001b[39;00m\u001b[38;5;21;01mutils\u001b[39;00m\u001b[38;5;21;01m.\u001b[39;00m\u001b[38;5;21;01mconfig\u001b[39;00m \u001b[38;5;28;01mimport\u001b[39;00m get_default_config\n\u001b[0;32m      4\u001b[0m \u001b[38;5;66;03m# Initialize the OpenWeatherMap API\u001b[39;00m\n",
      "\u001b[1;31mModuleNotFoundError\u001b[0m: No module named 'pyowm'"
     ]
    }
   ],
   "source": [
    "import pyowm\n",
    "\n",
    "from pyowm.utils.config import get_default_config\n",
    "\n",
    "# Initialize the OpenWeatherMap API\n",
    "api_key = \"9dda6e8331ad626463b3c2c9ee9036d0\"\n",
    "owm = pyowm.OWM(api_key)\n",
    "\n",
    "# Set language preference (optional)\n",
    "config_dict = get_default_config()\n",
    "config_dict['language'] = 'en'  # Can be set to other languages like 'es', 'fr', etc.\n",
    "\n",
    "# Get the weather manager\n",
    "mgr = owm.weather_manager()\n",
    "\n",
    "# Specify the location (e.g., London)\n",
    "location = \"London, GB\"\n",
    "\n",
    "# Get current weather at the location\n",
    "observation = mgr.weather_at_place(location)\n",
    "weather = observation.weather\n",
    "\n",
    "# Display current weather information\n",
    "print(f\"Current weather in {location}:\")\n",
    "print(f\"Status: {weather.detailed_status}\")\n",
    "print(f\"Temperature: {weather.temperature('celsius')['temp']}°C\")\n",
    "print(f\"Humidity: {weather.humidity}%\")\n",
    "print(f\"Wind Speed: {weather.wind()['speed']} m/s\")\n",
    "print(\"-\" * 40)\n",
    "\n",
    "# Get a 3-hourly forecast\n",
    "forecast = mgr.forecast_at_place(location, '3h').forecast\n",
    "\n",
    "print(f\"3-hourly forecast for {location}:\")\n",
    "\n",
    "# Loop through the forecast\n",
    "for weather in forecast:\n",
    "    print(f\"Time: {weather.reference_time('iso')}\")\n",
    "    print(f\"Status: {weather.detailed_status}\")\n",
    "    print(f\"Temperature: {weather.temperature('celsius')['temp']}°C\")\n",
    "    print(\"-\" * 40)\n"
   ]
  }
 ],
 "metadata": {
  "kernelspec": {
   "display_name": "Python 3",
   "language": "python",
   "name": "python3"
  },
  "language_info": {
   "codemirror_mode": {
    "name": "ipython",
    "version": 3
   },
   "file_extension": ".py",
   "mimetype": "text/x-python",
   "name": "python",
   "nbconvert_exporter": "python",
   "pygments_lexer": "ipython3",
   "version": "3.12.1"
  }
 },
 "nbformat": 4,
 "nbformat_minor": 2
}
