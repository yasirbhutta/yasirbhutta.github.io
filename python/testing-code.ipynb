{
 "cells": [
  {
   "cell_type": "code",
   "execution_count": 8,
   "metadata": {},
   "outputs": [
    {
     "name": "stdout",
     "output_type": "stream",
     "text": [
      "sum = 0 and i = 0\n",
      "sum 0\n",
      "sum = 0 and i = 1\n",
      "sum 1\n",
      "sum = 1 and i = 2\n",
      "sum 3\n",
      "sum = 3 and i = 3\n",
      "sum 6\n",
      "sum = 6 and i = 4\n",
      "sum 10\n",
      "sum = 10 and i = 5\n",
      "sum 15\n",
      "Total sum = 15\n"
     ]
    }
   ],
   "source": [
    "n = 5\n",
    "sum = 0\n",
    "for i in range(1,n+1):\n",
    "    print(f\"sum = {sum} and i = {i}\")\n",
    "    sum = sum + i\n",
    "    print(f\"sum {sum}\")\n",
    "print(f\"Total sum = {sum}\")\n",
    "\n"
   ]
  }
 ],
 "metadata": {
  "kernelspec": {
   "display_name": "Python 3",
   "language": "python",
   "name": "python3"
  },
  "language_info": {
   "codemirror_mode": {
    "name": "ipython",
    "version": 3
   },
   "file_extension": ".py",
   "mimetype": "text/x-python",
   "name": "python",
   "nbconvert_exporter": "python",
   "pygments_lexer": "ipython3",
   "version": "3.12.1"
  }
 },
 "nbformat": 4,
 "nbformat_minor": 2
}
