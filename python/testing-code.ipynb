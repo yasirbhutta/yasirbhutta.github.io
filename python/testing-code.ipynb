{
 "cells": [
  {
   "cell_type": "code",
   "execution_count": 6,
   "metadata": {},
   "outputs": [
    {
     "name": "stdout",
     "output_type": "stream",
     "text": [
      "a=5\n",
      "b=3\n",
      "15\n"
     ]
    }
   ],
   "source": [
    "def multiply(a, b):\n",
    "    print(f\"{a=}\")\n",
    "    print(f\"{b=}\")\n",
    "    return a * b\n",
    "\n",
    "re = multiply(b=3, a=5)\n",
    "\n",
    "print(re)"
   ]
  }
 ],
 "metadata": {
  "kernelspec": {
   "display_name": "Python 3",
   "language": "python",
   "name": "python3"
  },
  "language_info": {
   "codemirror_mode": {
    "name": "ipython",
    "version": 3
   },
   "file_extension": ".py",
   "mimetype": "text/x-python",
   "name": "python",
   "nbconvert_exporter": "python",
   "pygments_lexer": "ipython3",
   "version": "3.12.1"
  }
 },
 "nbformat": 4,
 "nbformat_minor": 2
}
